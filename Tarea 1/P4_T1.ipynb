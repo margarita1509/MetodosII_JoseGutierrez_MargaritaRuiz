{
 "cells": [
  {
   "cell_type": "code",
   "execution_count": 53,
   "metadata": {},
   "outputs": [],
   "source": [
    "%matplotlib inline\n",
    "import numpy as np\n",
    "import matplotlib.pyplot as plt\n",
    "import matplotlib.animation as anim\n",
    "from tqdm import tqdm "
   ]
  },
  {
   "cell_type": "code",
   "execution_count": 54,
   "metadata": {},
   "outputs": [],
   "source": [
    "class Planeta:\n",
    "    \n",
    "    def __init__(self, e, a, t):\n",
    "        \n",
    "        self.t = t\n",
    "        self.dt = t[1] - t[0] # Paso del tiempo\n",
    "        \n",
    "        self.e = e # Excentricidad\n",
    "        self.a_ = a # Semi-eje mayor\n",
    "        \n",
    "        self.G = 4*np.pi**2 # Unidades gaussianas\n",
    "        \n",
    "        self.r = np.zeros(3)\n",
    "        self.v = np.zeros_like(self.r)\n",
    "        self.a = np.zeros_like(self.r)\n",
    "        \n",
    "        self.r[0] = self.a_*(1-self.e)\n",
    "        self.v[1] = np.sqrt( self.G*(1+self.e)/(self.a_*(1.-self.e)) )\n",
    "        \n",
    "        self.R = np.zeros((len(t),len(self.r)))\n",
    "        self.V = np.zeros_like(self.R)\n",
    "        \n",
    "        # El valor del pasado\n",
    "        self.rp = self.r\n",
    "        \n",
    "    def GetAceleration(self):\n",
    "        \n",
    "        d = np.linalg.norm(self.r)\n",
    "        self.a = -self.G/d**3*self.r\n",
    "        \n",
    "        \n",
    "    def Evolution(self,i):\n",
    "        \n",
    "        self.SetPosition(i)\n",
    "        self.SetVelocity(i)\n",
    "        self.GetAceleration()\n",
    "        \n",
    "        if i==0:\n",
    "            self.r = self.rp + self.v*self.dt\n",
    "        else:\n",
    "            \n",
    "            # rp pasado, r presente rf futuro\n",
    "            self.rf = 2*self.r - self.rp + self.a*self.dt**2\n",
    "            self.v = (self.rf - self.rp)/(2*self.dt)\n",
    "            \n",
    "            self.rp = self.r\n",
    "            self.r = self.rf\n",
    "    \n",
    "    def SetPosition(self,i):\n",
    "        self.R[i] = self.r\n",
    "        \n",
    "    def SetVelocity(self,i):\n",
    "        self.V[i] = self.v\n",
    "    \n",
    "    def GetPosition(self,scale=1):\n",
    "        return self.R[::scale]\n",
    "    \n",
    "    def GetVelocity(self,scale=1):\n",
    "        return self.V[::scale]\n",
    "    \n",
    "    def GetPerihelio(self):\n",
    "        \n",
    "        Dist = np.linalg.norm(self.R,axis=1)\n",
    "        \n",
    "        timeup = []\n",
    "        \n",
    "        for i in range(1,len(Dist)-1):\n",
    "            if Dist[i] < Dist[i-1] and Dist[i] < Dist[i+1]:\n",
    "                timeup.append(self.t[i])\n",
    "            \n",
    "        return timeup\n",
    "    \n",
    "    def GetOrbitalPeriod(self):\n",
    "        tiempo = self.GetPerihelio()\n",
    "        periodo = tiempo[1] - tiempo[0]\n",
    "\n",
    "        return periodo"
   ]
  },
  {
   "cell_type": "code",
   "execution_count": 55,
   "metadata": {},
   "outputs": [],
   "source": [
    "def GetPlanetas(t):\n",
    "    \n",
    "    Mercurio = Planeta(0.2056,0.307,t)\n",
    "    Venus = Planeta(0.0067,0.7233,t)\n",
    "    Tierra = Planeta(0.01671,1.,t)\n",
    "    Marte = Planeta(0.093315,1.523679,t)\n",
    "    Jupiter = Planeta(0.04877,5.204267,t)\n",
    "    \n",
    "    return [Mercurio,Venus,Tierra,Marte,Jupiter]"
   ]
  },
  {
   "cell_type": "code",
   "execution_count": 56,
   "metadata": {},
   "outputs": [],
   "source": [
    "dt = 0.001\n",
    "tmax = 30\n",
    "t = np.arange(0.,tmax,dt)\n",
    "Planetas = GetPlanetas(t)"
   ]
  },
  {
   "cell_type": "code",
   "execution_count": 57,
   "metadata": {},
   "outputs": [],
   "source": [
    "def RunSimulation(t,Planetas):\n",
    "    \n",
    "    for it in tqdm(range(len(t)), desc='Running simulation', unit=' Steps' ):\n",
    "        \n",
    "        #print(it)\n",
    "        for i in range(len(Planetas)):\n",
    "            Planetas[i].Evolution(it)\n",
    "            # Aca debes agregar la interaccion con la pared\n",
    "            \n",
    "            \n",
    "    return Planetas"
   ]
  },
  {
   "cell_type": "code",
   "execution_count": 58,
   "metadata": {},
   "outputs": [
    {
     "name": "stderr",
     "output_type": "stream",
     "text": [
      "Running simulation: 100%|██████████| 30000/30000 [00:02<00:00, 12747.84 Steps/s]\n"
     ]
    }
   ],
   "source": [
    "Planetas = RunSimulation(t,Planetas)"
   ]
  },
  {
   "cell_type": "code",
   "execution_count": 73,
   "metadata": {},
   "outputs": [
    {
     "data": {
      "text/plain": [
       "(array([2.89000000e-02, 3.78225000e-01, 1.00200100e+00, 3.53816100e+00,\n",
       "        1.40968129e+02]),\n",
       " array([2.89344430e-02, 3.78403718e-01, 1.00000000e+00, 3.53736965e+00,\n",
       "        1.40954423e+02]))"
      ]
     },
     "execution_count": 73,
     "metadata": {},
     "output_type": "execute_result"
    }
   ],
   "source": [
    "\n",
    "Periods = np.zeros(5)\n",
    "for i in range(len(Periods)):\n",
    "   Periods[i] = (Planetas[i].GetOrbitalPeriod())**2\n",
    "\n",
    "SemiAxes = np.array([0.307,0.7233,1.,1.523679,5.204267])\n",
    "for i in range(len(SemiAxes)):\n",
    "   SemiAxes[i] = SemiAxes[i]**3\n",
    "Periods,SemiAxes"
   ]
  },
  {
   "cell_type": "code",
   "execution_count": 77,
   "metadata": {},
   "outputs": [
    {
     "data": {
      "text/plain": [
       "Text(0, 0.5, 'Periodos (años)')"
      ]
     },
     "execution_count": 77,
     "metadata": {},
     "output_type": "execute_result"
    },
    {
     "data": {
      "image/png": "[encoded data removed]",
      "text/plain": [
       "<Figure size 432x288 with 1 Axes>"
      ]
     },
     "metadata": {
      "needs_background": "light"
     },
     "output_type": "display_data"
    }
   ],
   "source": [
    "plt.plot(SemiAxes,Periods)\n",
    "plt.xlabel(\"Semiejes (UA)\")\n",
    "plt.ylabel(\"Periodos (años)\")"
   ]
  },
  {
   "cell_type": "code",
   "execution_count": 76,
   "metadata": {},
   "outputs": [
    {
     "data": {
      "text/plain": [
       "array([1.00009354e+00, 5.27671422e-04])"
      ]
     },
     "execution_count": 76,
     "metadata": {},
     "output_type": "execute_result"
    }
   ],
   "source": [
    "coefficients, cov_matrix = np.polyfit(SemiAxes, Periods, 1, cov=True)\n",
    "coefficients"
   ]
  },
  {
   "cell_type": "code",
   "execution_count": 80,
   "metadata": {},
   "outputs": [
    {
     "data": {
      "text/plain": [
       "1.9956888440734185e+30"
      ]
     },
     "execution_count": 80,
     "metadata": {},
     "output_type": "execute_result"
    }
   ],
   "source": [
    "SolarMass = (4*np.pi**2)/(coefficients[0]*1.978*10**(-29))\n",
    "SolarMass"
   ]
  },
  {
   "cell_type": "code",
   "execution_count": null,
   "metadata": {},
   "outputs": [],
   "source": []
  }
 ],
 "metadata": {
  "kernelspec": {
   "display_name": "base",
   "language": "python",
   "name": "python3"
  },
  "language_info": {
   "codemirror_mode": {
    "name": "ipython",
    "version": 3
   },
   "file_extension": ".py",
   "mimetype": "text/x-python",
   "name": "python",
   "nbconvert_exporter": "python",
   "pygments_lexer": "ipython3",
   "version": "3.8.8"
  }
 },
 "nbformat": 4,
 "nbformat_minor": 2
}
