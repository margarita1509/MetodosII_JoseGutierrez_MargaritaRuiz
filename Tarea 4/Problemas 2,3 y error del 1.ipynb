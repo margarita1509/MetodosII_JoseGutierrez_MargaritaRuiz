{
 "cells": [
  {
   "cell_type": "code",
   "execution_count": 33,
   "id": "f3ae595f",
   "metadata": {},
   "outputs": [],
   "source": [
    "import numpy as np\n",
    "from scipy import integrate\n",
    "import sympy as sym"
   ]
  },
  {
   "cell_type": "code",
   "execution_count": 34,
   "id": "595ec537",
   "metadata": {},
   "outputs": [
    {
     "name": "stdout",
     "output_type": "stream",
     "text": [
      "El error está en que el autor definió la sumatoria con el índice p, no obstante, este marca al término de la aceleración para cada suma con respecto a q. Esto no tiene nada de sentido pues no vale la pena sumar términos que no cambian en cada iteración. El error está en usar q en lugar de p para marcar la aceleración en la sumatoria.\n"
     ]
    }
   ],
   "source": [
    "#Punto 1\n",
    "print('El error está en que el autor definió la sumatoria con el índice p, no obstante, este marca al término de la aceleración para cada suma con respecto a q. Esto no tiene nada de sentido pues no vale la pena sumar términos que no cambian en cada iteración. El error está en usar q en lugar de p para marcar la aceleración en la sumatoria.')"
   ]
  },
  {
   "cell_type": "code",
   "execution_count": 35,
   "id": "25a69a1d",
   "metadata": {},
   "outputs": [],
   "source": [
    "#Punto 2\n",
    "#Primero vamos a definir La interpoladora, A-B y A-M para los puntos 2 y 3\n",
    "\n",
    "def Interpolación(x,x0,y0):\n",
    "    Sumatoria=0\n",
    "    for i in range(len(x0)):\n",
    "        Sumatoria+=y0[i]*Lagrange(x,x0,i)\n",
    "    return Sumatoria\n",
    "\n",
    "def Lagrange(x,x0,i):\n",
    "    Multiplic=1\n",
    "    for j in range(len(x0)):\n",
    "        if j!=i:\n",
    "            Multiplic*=(x-x0[j])/(x0[i]-x0[j])  \n",
    "    return Multiplic\n",
    "#Creamos las variables\n",
    "h=sym.Symbol(\"h\",real=True)\n",
    "fn=sym.Symbol(\"f_n\",real=True)\n",
    "fn1=sym.Symbol(\"f_n-1\",real=True)\n",
    "fnp1=sym.Symbol(\"f_n+1\",real=True)\n",
    "fn2=sym.Symbol(\"f_n-2\",real=True)\n",
    "fnp2=sym.Symbol(\"f_n+2\",real=True)\n",
    "fn3=sym.Symbol(\"f_n-3\",real=True)\n",
    "fnp3=sym.Symbol(\"f_n+3\",real=True)\n",
    "t=sym.Symbol(\"t\",real=True)\n",
    "#A-B 3 puntos\n",
    "f_3p=np.array([fn2,fn1,fn])\n",
    "t_3p=np.array([0-2*h,0-h,0])\n",
    "integral_3p=sym.integrate(Interpolación(t,t_3p,f_3p),(t,0,h))\n",
    "#A-B 4 puntos\n",
    "f_4p=np.array([fn3,fn2,fn1,fn])\n",
    "t_4p=np.array([0-3*h,0-2*h,0-h,0])\n",
    "integral_4p=sym.integrate(Interpolación(t,t_4p,f_4p),(t,0,h))"
   ]
  },
  {
   "cell_type": "code",
   "execution_count": 36,
   "id": "c3a794e3",
   "metadata": {},
   "outputs": [
    {
     "data": {
      "text/latex": [
       "$\\displaystyle \\frac{f_{n} \\left(h + t\\right) \\left(2 h + t\\right)}{2 h^{2}} - \\frac{f_{n-1} t \\left(2 h + t\\right)}{h^{2}} + \\frac{f_{n-2} t \\left(h + t\\right)}{2 h^{2}}$"
      ],
      "text/plain": [
       "f_n*(h + t)*(2*h + t)/(2*h**2) - f_n-1*t*(2*h + t)/h**2 + f_n-2*t*(h + t)/(2*h**2)"
      ]
     },
     "execution_count": 36,
     "metadata": {},
     "output_type": "execute_result"
    }
   ],
   "source": [
    "Interpolación(t,t_3p,f_3p)"
   ]
  },
  {
   "cell_type": "code",
   "execution_count": 37,
   "id": "ee0a9da7",
   "metadata": {},
   "outputs": [
    {
     "data": {
      "text/latex": [
       "$\\displaystyle f_{n} h + \\frac{h \\left(f_{n} - 2 f_{n-1} + f_{n-2}\\right)}{6} + \\frac{h \\left(3 f_{n} - 4 f_{n-1} + f_{n-2}\\right)}{4}$"
      ],
      "text/plain": [
       "f_n*h + h*(f_n - 2*f_n-1 + f_n-2)/6 + h*(3*f_n - 4*f_n-1 + f_n-2)/4"
      ]
     },
     "execution_count": 37,
     "metadata": {},
     "output_type": "execute_result"
    }
   ],
   "source": [
    "integral_3p"
   ]
  },
  {
   "cell_type": "code",
   "execution_count": 38,
   "id": "ec2a1f93",
   "metadata": {},
   "outputs": [
    {
     "data": {
      "text/latex": [
       "$\\displaystyle \\frac{f_{n} \\left(h + t\\right) \\left(2 h + t\\right) \\left(3 h + t\\right)}{6 h^{3}} - \\frac{f_{n-1} t \\left(2 h + t\\right) \\left(3 h + t\\right)}{2 h^{3}} + \\frac{f_{n-2} t \\left(h + t\\right) \\left(3 h + t\\right)}{2 h^{3}} - \\frac{f_{n-3} t \\left(h + t\\right) \\left(2 h + t\\right)}{6 h^{3}}$"
      ],
      "text/plain": [
       "f_n*(h + t)*(2*h + t)*(3*h + t)/(6*h**3) - f_n-1*t*(2*h + t)*(3*h + t)/(2*h**3) + f_n-2*t*(h + t)*(3*h + t)/(2*h**3) - f_n-3*t*(h + t)*(2*h + t)/(6*h**3)"
      ]
     },
     "execution_count": 38,
     "metadata": {},
     "output_type": "execute_result"
    }
   ],
   "source": [
    "Interpolación(t,t_4p,f_4p)"
   ]
  },
  {
   "cell_type": "code",
   "execution_count": 39,
   "id": "d50cd4f4",
   "metadata": {},
   "outputs": [
    {
     "data": {
      "text/latex": [
       "$\\displaystyle f_{n} h + \\frac{h \\left(f_{n} - 3 f_{n-1} + 3 f_{n-2} - f_{n-3}\\right)}{24} + \\frac{h \\left(2 f_{n} - 5 f_{n-1} + 4 f_{n-2} - f_{n-3}\\right)}{6} + \\frac{h \\left(11 f_{n} - 18 f_{n-1} + 9 f_{n-2} - 2 f_{n-3}\\right)}{12}$"
      ],
      "text/plain": [
       "f_n*h + h*(f_n - 3*f_n-1 + 3*f_n-2 - f_n-3)/24 + h*(2*f_n - 5*f_n-1 + 4*f_n-2 - f_n-3)/6 + h*(11*f_n - 18*f_n-1 + 9*f_n-2 - 2*f_n-3)/12"
      ]
     },
     "execution_count": 39,
     "metadata": {},
     "output_type": "execute_result"
    }
   ],
   "source": [
    "integral_4p "
   ]
  },
  {
   "cell_type": "code",
   "execution_count": 40,
   "id": "eecb9a27",
   "metadata": {},
   "outputs": [],
   "source": [
    "#Punto 3\n",
    "#A-M 3 puntos\n",
    "fAM_3p=np.array([fn1,fn,fnp1])\n",
    "tAM_3p=np.array([-h,0,h])\n",
    "integralAM_3p=sym.integrate(Interpolación(t,tAM_3p,fAM_3p),(t,0,h))\n",
    "#A-M 4 puntos\n",
    "fAM_4p=np.array([fn2,fn1,fn,fnp1])\n",
    "tAM_4p=np.array([0-2*h,0-h,0,h])\n",
    "integralAM_4p=sym.integrate(Interpolación(t,tAM_4p,fAM_4p),(t,0,h))"
   ]
  },
  {
   "cell_type": "code",
   "execution_count": 41,
   "id": "c4300adf",
   "metadata": {},
   "outputs": [
    {
     "data": {
      "text/latex": [
       "$\\displaystyle - \\frac{f_{n} \\left(- h + t\\right) \\left(h + t\\right)}{h^{2}} + \\frac{f_{n+1} t \\left(h + t\\right)}{2 h^{2}} + \\frac{f_{n-1} t \\left(- h + t\\right)}{2 h^{2}}$"
      ],
      "text/plain": [
       "-f_n*(-h + t)*(h + t)/h**2 + f_n+1*t*(h + t)/(2*h**2) + f_n-1*t*(-h + t)/(2*h**2)"
      ]
     },
     "execution_count": 41,
     "metadata": {},
     "output_type": "execute_result"
    }
   ],
   "source": [
    "Interpolación(t,tAM_3p,fAM_3p)"
   ]
  },
  {
   "cell_type": "code",
   "execution_count": 42,
   "id": "2c6b6138",
   "metadata": {},
   "outputs": [
    {
     "data": {
      "text/latex": [
       "$\\displaystyle f_{n} h + \\frac{h \\left(f_{n+1} - f_{n-1}\\right)}{4} + \\frac{h \\left(- 2 f_{n} + f_{n+1} + f_{n-1}\\right)}{6}$"
      ],
      "text/plain": [
       "f_n*h + h*(f_n+1 - f_n-1)/4 + h*(-2*f_n + f_n+1 + f_n-1)/6"
      ]
     },
     "execution_count": 42,
     "metadata": {},
     "output_type": "execute_result"
    }
   ],
   "source": [
    "integralAM_3p"
   ]
  },
  {
   "cell_type": "code",
   "execution_count": 43,
   "id": "fc2b12d7",
   "metadata": {},
   "outputs": [
    {
     "data": {
      "text/latex": [
       "$\\displaystyle - \\frac{f_{n} \\left(- h + t\\right) \\left(h + t\\right) \\left(2 h + t\\right)}{2 h^{3}} + \\frac{f_{n+1} t \\left(h + t\\right) \\left(2 h + t\\right)}{6 h^{3}} + \\frac{f_{n-1} t \\left(- h + t\\right) \\left(2 h + t\\right)}{2 h^{3}} - \\frac{f_{n-2} t \\left(- h + t\\right) \\left(h + t\\right)}{6 h^{3}}$"
      ],
      "text/plain": [
       "-f_n*(-h + t)*(h + t)*(2*h + t)/(2*h**3) + f_n+1*t*(h + t)*(2*h + t)/(6*h**3) + f_n-1*t*(-h + t)*(2*h + t)/(2*h**3) - f_n-2*t*(-h + t)*(h + t)/(6*h**3)"
      ]
     },
     "execution_count": 43,
     "metadata": {},
     "output_type": "execute_result"
    }
   ],
   "source": [
    "Interpolación(t,tAM_4p,fAM_4p)"
   ]
  },
  {
   "cell_type": "code",
   "execution_count": 44,
   "id": "2b8283a4",
   "metadata": {},
   "outputs": [
    {
     "data": {
      "text/latex": [
       "$\\displaystyle f_{n} h + \\frac{h \\left(- 2 f_{n} + f_{n+1} + f_{n-1}\\right)}{6} + \\frac{h \\left(- 3 f_{n} + f_{n+1} + 3 f_{n-1} - f_{n-2}\\right)}{24} + \\frac{h \\left(3 f_{n} + 2 f_{n+1} - 6 f_{n-1} + f_{n-2}\\right)}{12}$"
      ],
      "text/plain": [
       "f_n*h + h*(-2*f_n + f_n+1 + f_n-1)/6 + h*(-3*f_n + f_n+1 + 3*f_n-1 - f_n-2)/24 + h*(3*f_n + 2*f_n+1 - 6*f_n-1 + f_n-2)/12"
      ]
     },
     "execution_count": 44,
     "metadata": {},
     "output_type": "execute_result"
    }
   ],
   "source": [
    "integralAM_4p"
   ]
  },
  {
   "cell_type": "code",
   "execution_count": null,
   "id": "57f70692",
   "metadata": {},
   "outputs": [],
   "source": []
  },
  {
   "cell_type": "code",
   "execution_count": null,
   "id": "7d915d79",
   "metadata": {},
   "outputs": [],
   "source": []
  }
 ],
 "metadata": {
  "kernelspec": {
   "display_name": "Python 3 (ipykernel)",
   "language": "python",
   "name": "python3"
  },
  "language_info": {
   "codemirror_mode": {
    "name": "ipython",
    "version": 3
   },
   "file_extension": ".py",
   "mimetype": "text/x-python",
   "name": "python",
   "nbconvert_exporter": "python",
   "pygments_lexer": "ipython3",
   "version": "3.9.13"
  }
 },
 "nbformat": 4,
 "nbformat_minor": 5
}
