{
 "cells": [
  {
   "cell_type": "code",
   "execution_count": 2,
   "metadata": {},
   "outputs": [],
   "source": [
    "import numpy as np\n",
    "import matplotlib.pyplot as plt\n",
    "from scipy import integrate"
   ]
  },
  {
   "cell_type": "code",
   "execution_count": 3,
   "metadata": {},
   "outputs": [],
   "source": [
    "def System(r,t):\n",
    "    x, y = r\n",
    "    dxdt = 2*x - y\n",
    "    dydt = x + 2*y\n",
    "\n",
    "    \n",
    "    return [dxdt,dydt]"
   ]
  },
  {
   "cell_type": "code",
   "execution_count": 4,
   "metadata": {},
   "outputs": [],
   "source": [
    "def Euler2(f,r0,t):\n",
    "    \n",
    "    h = t[1] - t[0]\n",
    "    print(h)\n",
    "    \n",
    "    x = np.zeros_like(t)\n",
    "    y = np.zeros_like(t)\n",
    "    \n",
    "    x[0] = r0[0]\n",
    "    y[0] = r0[1]\n",
    "    \n",
    "    K1 = np.zeros(6)\n",
    "    K2 = np.zeros(6)\n",
    "    \n",
    "    # Las pendientes instantaneas\n",
    "    for i in range(1,len(t)):\n",
    "        \n",
    "        R = np.array([x[i-1], y[i-1]])\n",
    "    \n",
    "        K1 = f(R,t[i-1])\n",
    "        R = np.array([x[i-1]+h*K1[0], y[i-1]+h*K1[1]])\n",
    "        K2 = f(R,t[i])\n",
    "        \n",
    "        x[i] = x[i-1] + 0.5*h*(K1[0]+K2[0])\n",
    "        y[i] = y[i-1] + 0.5*h*(K1[1]+K2[1])\n",
    "\n",
    "    return x,y"
   ]
  },
  {
   "cell_type": "code",
   "execution_count": 35,
   "metadata": {},
   "outputs": [
    {
     "name": "stdout",
     "output_type": "stream",
     "text": [
      "0.002000200020002\n",
      "0.002000200020002\n",
      "0.002000200020002\n",
      "0.002000200020002\n"
     ]
    }
   ],
   "source": [
    "r0 = [1.,1.]\n",
    "r1 = [0.,1.]\n",
    "r2 = [1.,0.]\n",
    "r3 = [-1.,0.]\n",
    "\n",
    "t = np.linspace(0,20,10000)\n",
    "\n",
    "x,y= Euler2(System,r0,t)\n",
    "x1,y1= Euler2(System,r1,t)\n",
    "x2,y2= Euler2(System,r2,t)\n",
    "x3,y3 = Euler2(System,r3,t)"
   ]
  },
  {
   "cell_type": "code",
   "execution_count": 28,
   "metadata": {},
   "outputs": [
    {
     "data": {
      "text/plain": [
       "[<matplotlib.lines.Line2D at 0x1f98bb84d30>]"
      ]
     },
     "execution_count": 28,
     "metadata": {},
     "output_type": "execute_result"
    },
    {
     "data": {
      "image/png": "[encoded data removed]",
      "text/plain": [
       "<Figure size 432x288 with 1 Axes>"
      ]
     },
     "metadata": {
      "needs_background": "light"
     },
     "output_type": "display_data"
    }
   ],
   "source": [
    "plt.plot(t,x)"
   ]
  },
  {
   "cell_type": "code",
   "execution_count": 29,
   "metadata": {},
   "outputs": [
    {
     "data": {
      "text/plain": [
       "[<matplotlib.lines.Line2D at 0x1f98bbf3100>]"
      ]
     },
     "execution_count": 29,
     "metadata": {},
     "output_type": "execute_result"
    },
    {
     "data": {
      "image/png": "[encoded data removed]",
      "text/plain": [
       "<Figure size 432x288 with 1 Axes>"
      ]
     },
     "metadata": {
      "needs_background": "light"
     },
     "output_type": "display_data"
    }
   ],
   "source": [
    "plt.plot(t,y)"
   ]
  },
  {
   "cell_type": "code",
   "execution_count": 30,
   "metadata": {},
   "outputs": [
    {
     "data": {
      "text/plain": [
       "array([2.+1.j, 2.-1.j])"
      ]
     },
     "execution_count": 30,
     "metadata": {},
     "output_type": "execute_result"
    }
   ],
   "source": [
    "a = np.array([2,-1,1,2])\n",
    "A = a.reshape(2,2)\n",
    "\n",
    "e_values,e_vectors = np.linalg.eig(A)\n",
    "e_values"
   ]
  },
  {
   "cell_type": "code",
   "execution_count": 31,
   "metadata": {},
   "outputs": [
    {
     "data": {
      "text/plain": [
       "array([[0.70710678+0.j        , 0.70710678-0.j        ],\n",
       "       [0.        -0.70710678j, 0.        +0.70710678j]])"
      ]
     },
     "execution_count": 31,
     "metadata": {},
     "output_type": "execute_result"
    }
   ],
   "source": [
    "e_vectors"
   ]
  },
  {
   "cell_type": "code",
   "execution_count": 36,
   "metadata": {},
   "outputs": [
    {
     "data": {
      "text/plain": [
       "[<matplotlib.lines.Line2D at 0x1f98baa5130>]"
      ]
     },
     "execution_count": 36,
     "metadata": {},
     "output_type": "execute_result"
    },
    {
     "data": {
      "image/png": "[encoded data removed]",
      "text/plain": [
       "<Figure size 432x288 with 1 Axes>"
      ]
     },
     "metadata": {
      "needs_background": "light"
     },
     "output_type": "display_data"
    }
   ],
   "source": [
    "plt.plot(x,y)\n",
    "plt.plot(x1,y1)\n",
    "plt.plot(x2,y2)\n",
    "plt.plot(x3,y3)\n",
    "#Se observa que el punto crítico es el punto de inicio para la solución con diferentes condiciones iniciales"
   ]
  },
  {
   "cell_type": "code",
   "execution_count": null,
   "metadata": {},
   "outputs": [],
   "source": []
  }
 ],
 "metadata": {
  "kernelspec": {
   "display_name": "base",
   "language": "python",
   "name": "python3"
  },
  "language_info": {
   "codemirror_mode": {
    "name": "ipython",
    "version": 3
   },
   "file_extension": ".py",
   "mimetype": "text/x-python",
   "name": "python",
   "nbconvert_exporter": "python",
   "pygments_lexer": "ipython3",
   "version": "3.8.8"
  }
 },
 "nbformat": 4,
 "nbformat_minor": 2
}
