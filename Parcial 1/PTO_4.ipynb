{
 "cells": [
  {
   "cell_type": "code",
   "execution_count": 24,
   "metadata": {},
   "outputs": [],
   "source": [
    "import numpy as np\n",
    "import matplotlib.pyplot as plt\n",
    "from scipy import integrate"
   ]
  },
  {
   "cell_type": "code",
   "execution_count": 25,
   "metadata": {},
   "outputs": [],
   "source": [
    "def System(r,t):\n",
    "    theta, theta_p, theta_pp = r\n",
    "    tt = theta\n",
    "    tp = theta_p\n",
    "\n",
    "    L = 1\n",
    "\n",
    "    tpp = (2*(9.81)/L - tp**2*np.cos(tt))*np.sin(tt)/((1/3)+np.sin(tt)**2)\n",
    "    \n",
    "    return [tt, tp, tpp]"
   ]
  },
  {
   "cell_type": "code",
   "execution_count": 26,
   "metadata": {},
   "outputs": [],
   "source": [
    "def Euler2(f,r0,t):\n",
    "    \n",
    "    h = t[1] - t[0]\n",
    "    print(h)\n",
    "    \n",
    "    tt = np.zeros_like(t)\n",
    "    tt_p = np.zeros_like(t)\n",
    "    tt_pp = np.zeros_like(t)\n",
    " \n",
    "    \n",
    "    tt[0] = r0[0]\n",
    "    tt_p[0] = r0[1]\n",
    "    tt_pp[0] = r0[2]\n",
    "\n",
    "    \n",
    "    K1 = np.zeros(3)\n",
    "    K2 = np.zeros(3)\n",
    "    for i in range(1,len(t)):\n",
    "        \n",
    "        R = np.array([tt[i-1], tt_p[i-1], tt_pp[i-1]])\n",
    "    \n",
    "\n",
    "        K1 = f(R,t[i-1])\n",
    "        R = np.array([tt[i-1]+h*K1[0], tt_p[i-1]+h*K1[1], tt_pp[i-1]+h*K1[2]])\n",
    "        K2 = f(R,t[i])\n",
    "        \n",
    "        tt[i] = tt[i-1] + 0.5*h*(K1[0]+K2[0])\n",
    "        tt_p[i] = tt_p[i-1] + 0.5*h*(K1[1]+K2[1])\n",
    "        tt_pp[i] = tt_pp[i-1] + 0.5*h*(K1[2]+K2[2])\n",
    "\n",
    "        \n",
    "    return tt, tt_p, tt_pp"
   ]
  },
  {
   "cell_type": "code",
   "execution_count": 36,
   "metadata": {},
   "outputs": [
    {
     "name": "stdout",
     "output_type": "stream",
     "text": [
      "0.021717171717171715\n"
     ]
    },
    {
     "data": {
      "image/png": "[encoded data removed]",
      "text/plain": [
       "<Figure size 432x288 with 1 Axes>"
      ]
     },
     "metadata": {
      "needs_background": "light"
     },
     "output_type": "display_data"
    }
   ],
   "source": [
    "r0 = [np.pi/18,0.,0.]\n",
    "t = np.linspace(0,2.15,100)\n",
    "theta, theta_p, theta_pp = Euler2(System,r0,t) #en radianes\n",
    "plt.plot(t,theta,color='r')\n",
    "plt.show()"
   ]
  },
  {
   "cell_type": "code",
   "execution_count": 37,
   "metadata": {},
   "outputs": [
    {
     "data": {
      "image/png": "[encoded data removed]",
      "text/plain": [
       "<Figure size 432x288 with 1 Axes>"
      ]
     },
     "metadata": {
      "needs_background": "light"
     },
     "output_type": "display_data"
    }
   ],
   "source": [
    "x=0.5*np.sin(theta)\n",
    "y=0.5*np.cos(theta)\n",
    "plt.scatter(x,y,color='g',label='Posición de la barra')\n",
    "plt.xlabel('x del centro de masa (m)')\n",
    "plt.ylabel('y del centro de masa (m)')\n",
    "plt.show()"
   ]
  },
  {
   "cell_type": "code",
   "execution_count": 38,
   "metadata": {},
   "outputs": [
    {
     "name": "stdout",
     "output_type": "stream",
     "text": [
      "0.050505050505050504\n"
     ]
    }
   ],
   "source": [
    "r1 = [np.pi/18,0.,0.]\n",
    "t1 = np.linspace(0,5,100)\n",
    "theta1, theta_p1, theta_pp1 = Euler2(System,r1,t1) #en radianes"
   ]
  },
  {
   "cell_type": "code",
   "execution_count": 50,
   "metadata": {},
   "outputs": [
    {
     "data": {
      "text/plain": [
       "(2.2222222222222223, 1.6090930334065883)"
      ]
     },
     "execution_count": 50,
     "metadata": {},
     "output_type": "execute_result"
    }
   ],
   "source": [
    "tiempo  = 0\n",
    "angulo = 0\n",
    "for i in range(len(theta1)):\n",
    "    if (theta1[i] < np.pi/2 + 0.1) and (theta1[i] > np.pi/2 - 0.1):\n",
    "        tiempo = t1[i]\n",
    "        angulo = theta1[i]\n",
    "\n",
    "tiempo, angulo"
   ]
  },
  {
   "cell_type": "code",
   "execution_count": 52,
   "metadata": {},
   "outputs": [
    {
     "name": "stdout",
     "output_type": "stream",
     "text": [
      "El tiempo que se toma en caer al suelo es: 2.2222222222222223 s\n"
     ]
    }
   ],
   "source": [
    "print(\"El tiempo que se toma en caer al suelo es:\",tiempo, \"s\")"
   ]
  },
  {
   "cell_type": "code",
   "execution_count": null,
   "metadata": {},
   "outputs": [],
   "source": []
  }
 ],
 "metadata": {
  "kernelspec": {
   "display_name": "base",
   "language": "python",
   "name": "python3"
  },
  "language_info": {
   "codemirror_mode": {
    "name": "ipython",
    "version": 3
   },
   "file_extension": ".py",
   "mimetype": "text/x-python",
   "name": "python",
   "nbconvert_exporter": "python",
   "pygments_lexer": "ipython3",
   "version": "3.8.8"
  }
 },
 "nbformat": 4,
 "nbformat_minor": 2
}
